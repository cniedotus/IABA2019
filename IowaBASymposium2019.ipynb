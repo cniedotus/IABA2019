{
 "cells": [
  {
   "cell_type": "markdown",
   "metadata": {},
   "source": [
    "# Link to this notebook: tinyurl.com/IABA2019"
   ]
  },
  {
   "cell_type": "markdown",
   "metadata": {},
   "source": [
    "# What do you want to predict?\n",
    "\n",
    "1. Health at age 50? (Binary classification: Yes/No)\n",
    "2. Stock price?\n",
    "3. Perfect March madness bracket?"
   ]
  },
  {
   "cell_type": "markdown",
   "metadata": {},
   "source": [
    "#  Machine Learning from Start to Finish with Scikit-Learn \n",
    "\n",
    " Presented by: Cheng Nie \n",
    " \n",
    " Current Version: Spring, 2019\n",
    " "
   ]
  },
  {
   "cell_type": "markdown",
   "metadata": {},
   "source": [
    "[What is a decision tree?](https://towardsdatascience.com/what-is-a-decision-tree-22975f00f3e1)\n",
    "\n",
    "![](./image/dt.gif)"
   ]
  },
  {
   "cell_type": "markdown",
   "metadata": {},
   "source": [
    "[What is random forest?](https://medium.com/@williamkoehrsen/random-forest-simple-explanation-377895a60d2d)\n",
    "![](image/rf.png)"
   ]
  },
  {
   "cell_type": "markdown",
   "metadata": {},
   "source": [
    "[Kaggle Titanic competition](https://www.kaggle.com/c/titanic)"
   ]
  },
  {
   "cell_type": "markdown",
   "metadata": {},
   "source": [
    "[Confusion Matrix](https://www.dataschool.io/simple-guide-to-confusion-matrix-terminology/)\n",
    "\n",
    "![](image/cm.png)\n",
    "\n",
    "Accuracy: Overall, how often is the classifier correct?\n",
    "(TP+TN)/total = (100+50)/165 = 0.91"
   ]
  },
  {
   "cell_type": "markdown",
   "metadata": {},
   "source": [
    "[Machine Learning from Start to Finish with Scikit-Learn](https://www.kaggle.com/jeffd23/scikit-learn-ml-from-start-to-finish)"
   ]
  },
  {
   "cell_type": "markdown",
   "metadata": {},
   "source": [
    "[Cross validation](https://towardsdatascience.com/cross-validation-explained-evaluating-estimator-performance-e51e5430ff85)\n",
    "\n",
    "![](image/cv.png)"
   ]
  },
  {
   "cell_type": "markdown",
   "metadata": {},
   "source": [
    "The link to the notebook that cheng wroked on: [link](https://www.kaggle.com/chengn/scikit-learn-ml-from-start-to-finish-c45e68/edit)"
   ]
  },
  {
   "cell_type": "markdown",
   "metadata": {},
   "source": [
    "Next steps: \n",
    "    \n",
    "- [Hands-On Machine Learning with Scikit-Learn and TensorFlow](https://www.amazon.com/Hands-Machine-Learning-Scikit-Learn-TensorFlow/dp/1491962291)\n",
    "- [Kaggle/learn](https://www.kaggle.com/learn/overview)"
   ]
  },
  {
   "cell_type": "code",
   "execution_count": null,
   "metadata": {},
   "outputs": [],
   "source": []
  }
 ],
 "metadata": {
  "kernelspec": {
   "display_name": "Python 3",
   "language": "python",
   "name": "python3"
  },
  "language_info": {
   "codemirror_mode": {
    "name": "ipython",
    "version": 3
   },
   "file_extension": ".py",
   "mimetype": "text/x-python",
   "name": "python",
   "nbconvert_exporter": "python",
   "pygments_lexer": "ipython3",
   "version": "3.6.7"
  }
 },
 "nbformat": 4,
 "nbformat_minor": 2
}
